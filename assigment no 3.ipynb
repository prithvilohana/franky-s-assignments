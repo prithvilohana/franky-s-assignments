{
 "cells": [
  {
   "cell_type": "code",
   "execution_count": 1,
   "id": "469608ec",
   "metadata": {},
   "outputs": [
    {
     "name": "stdout",
     "output_type": "stream",
     "text": [
      "Twinkle, twinkle, little star, \n",
      "\tHow I wonder what you are! \n",
      "\t\tUp above the world so high, \n",
      "\t\tLike a diamond in the sky. \n",
      "Twinkle, twinkle, little star, \n",
      "\tHow I wonder what you are!\n"
     ]
    }
   ],
   "source": [
    "print(\"Twinkle, twinkle, little star, \\n\\tHow I wonder what you are! \\n\\t\\tUp above the world so high, \\n\\t\\tLike a diamond in the sky. \\nTwinkle, twinkle, little star, \\n\\tHow I wonder what you are!\")\n"
   ]
  },
  {
   "cell_type": "code",
   "execution_count": 7,
   "id": "748ce92a",
   "metadata": {},
   "outputs": [
    {
     "name": "stdout",
     "output_type": "stream",
     "text": [
      "Twinkle, twinkle, little star, tHow I wonder what you are! Up above the world so high, Like a diamond in the sky. Twinkle, twinkle, little star, How I wonder what you are!\n"
     ]
    }
   ],
   "source": [
    "print(\"Twinkle, twinkle, little star, tHow I wonder what you are! Up above the world so high, Like a diamond in the sky. Twinkle, twinkle, little star, How I wonder what you are!\")\n"
   ]
  },
  {
   "cell_type": "code",
   "execution_count": 9,
   "id": "28bc3363",
   "metadata": {},
   "outputs": [
    {
     "name": "stdout",
     "output_type": "stream",
     "text": [
      "3.8.8 (default, Apr 13 2021, 15:08:03) [MSC v.1916 64 bit (AMD64)]\n"
     ]
    }
   ],
   "source": [
    "import sys\n",
    "print(sys.version)"
   ]
  },
  {
   "cell_type": "code",
   "execution_count": 12,
   "id": "6c0a6e0a",
   "metadata": {},
   "outputs": [
    {
     "name": "stdout",
     "output_type": "stream",
     "text": [
      "Current date and time : \n",
      "2021-10-23 20:52:09\n"
     ]
    }
   ],
   "source": [
    "import datetime\n",
    "now = datetime.datetime.now()\n",
    "print (\"Current date and time : \")\n",
    "print (now.strftime(\"%Y-%m-%d %H:%M:%S\"))\n"
   ]
  },
  {
   "cell_type": "code",
   "execution_count": 13,
   "id": "086cf879",
   "metadata": {},
   "outputs": [
    {
     "name": "stdout",
     "output_type": "stream",
     "text": [
      "Enter radius of circle : 6\n",
      "Area of the circle is: 113.09733552923255\n"
     ]
    }
   ],
   "source": [
    "from math import pi\n",
    "\n",
    "r = float(input (\"Enter radius of circle : \"))\n",
    "\n",
    "print (\"Area of the circle is: \" + str(pi * r**2))"
   ]
  },
  {
   "cell_type": "code",
   "execution_count": 25,
   "id": "358395f5",
   "metadata": {},
   "outputs": [
    {
     "name": "stdout",
     "output_type": "stream",
     "text": [
      "prithvi  lohana\n"
     ]
    }
   ],
   "source": [
    "print(\"prithvi \"\" lohana\")"
   ]
  },
  {
   "cell_type": "code",
   "execution_count": 23,
   "id": "dc22f811",
   "metadata": {},
   "outputs": [
    {
     "name": "stdout",
     "output_type": "stream",
     "text": [
      "Input your First Name : prithvi\n",
      "Input your Last Name : lohana\n",
      "prithvi lohana\n"
     ]
    }
   ],
   "source": [
    "fname = input(\"Input your First Name : \")\n",
    "lname = input(\"Input your Last Name : \")\n",
    "print ( fname + \" \" + lname)\n"
   ]
  },
  {
   "cell_type": "code",
   "execution_count": 29,
   "id": "e881f457",
   "metadata": {},
   "outputs": [
    {
     "name": "stdout",
     "output_type": "stream",
     "text": [
      "enter first number: 45\n",
      "enter second number: 5\n",
      "sum: 50\n"
     ]
    }
   ],
   "source": [
    "a = int(input(\"enter first number: \"))\n",
    "b = int(input(\"enter second number: \"))\n",
    " \n",
    "sum = a + b\n",
    " \n",
    "print(\"sum:\", sum)"
   ]
  },
  {
   "cell_type": "code",
   "execution_count": 32,
   "id": "cfcab142",
   "metadata": {},
   "outputs": [
    {
     "name": "stdout",
     "output_type": "stream",
     "text": [
      "enter eng marks65\n",
      "enter math marks100\n",
      "enter urdu marks76\n",
      "enter isl marks89\n",
      "enter sst marks56\n",
      "A\n"
     ]
    }
   ],
   "source": [
    "eng = int(input(\"enter eng marks\"));\n",
    "math = int(input(\"enter math marks\"));\n",
    "urdu = int(input(\"enter urdu marks\"));\n",
    "isl = int(input(\"enter isl marks\"));\n",
    "sst = int(input(\"enter sst marks\"));\n",
    "total = 500;\n",
    "percent = (eng + math + urdu + isl + sst)/total*100;\n",
    "if percent < 100 and percent >= 80:\n",
    "      print(\"A+\")\n",
    "elif percent < 80 and percent >= 70:\n",
    "      print(\"A\")  \n",
    "elif percent < 70 and percent >= 60:\n",
    "      print(\"B\") \n",
    "elif percent < 60 and percent >= 50:\n",
    "      print(\"C\") \n",
    "elif percent < 50 and percent >= 40:\n",
    "      print(\"D\")         \n",
    "elif percent < 40 and percent >= 30:\n",
    "      print(\"E\")\n",
    "else:\n",
    "      print(\"fail\")        "
   ]
  },
  {
   "cell_type": "code",
   "execution_count": 34,
   "id": "90dfd273",
   "metadata": {},
   "outputs": [
    {
     "name": "stdout",
     "output_type": "stream",
     "text": [
      "Enter a number2\n",
      "This is an even number\n"
     ]
    }
   ],
   "source": [
    "num = int(input(\"Enter a number\"))\n",
    "mod = num % 2\n",
    "if mod > 0:\n",
    "    print(\"This is an odd number\")\n",
    "else:\n",
    "    print(\"This is an even number\")\n",
    "\t"
   ]
  },
  {
   "cell_type": "code",
   "execution_count": 38,
   "id": "9b404d82",
   "metadata": {},
   "outputs": [
    {
     "name": "stdout",
     "output_type": "stream",
     "text": [
      "Number of items in the list =  5\n"
     ]
    }
   ],
   "source": [
    "ListName = [\"Hello\", \"franky\", 1, 2, 3]\n",
    "print (\"Number of items in the list = \", len(ListName))"
   ]
  },
  {
   "cell_type": "code",
   "execution_count": null,
   "id": "d6e64316",
   "metadata": {},
   "outputs": [],
   "source": []
  }
 ],
 "metadata": {
  "kernelspec": {
   "display_name": "Python 3",
   "language": "python",
   "name": "python3"
  },
  "language_info": {
   "codemirror_mode": {
    "name": "ipython",
    "version": 3
   },
   "file_extension": ".py",
   "mimetype": "text/x-python",
   "name": "python",
   "nbconvert_exporter": "python",
   "pygments_lexer": "ipython3",
   "version": "3.8.8"
  }
 },
 "nbformat": 4,
 "nbformat_minor": 5
}
